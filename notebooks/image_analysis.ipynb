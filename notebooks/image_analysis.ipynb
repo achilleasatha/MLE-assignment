{
 "cells": [
  {
   "cell_type": "code",
   "execution_count": 1,
   "id": "initial_id",
   "metadata": {
    "collapsed": true,
    "ExecuteTime": {
     "end_time": "2024-03-06T15:30:11.436828900Z",
     "start_time": "2024-03-06T15:30:11.064732400Z"
    }
   },
   "outputs": [],
   "source": [
    "import pandas as pd\n",
    "from PIL import Image, ImageOps\n",
    "\n",
    "train = pd.read_csv('../data/exercise_train.tsv', sep='\\t')\n",
    "test = pd.read_csv('../data/exercise_test.tsv', sep='\\t')"
   ]
  },
  {
   "cell_type": "markdown",
   "source": [
    "Let's have a look at our images. Firstly I'd like to understand image size and shape and if this is already uniform \n",
    "and standardized. Otherwise, we'll have to think about how to deal with this problem by cropping, resizing, \n",
    "downscaling the resolution etc. "
   ],
   "metadata": {
    "collapsed": false
   },
   "id": "f2a2e3c16494d42a"
  },
  {
   "cell_type": "code",
   "outputs": [
    {
     "data": {
      "text/plain": "   productId gender                                        description  \\\n0    1026288  Women  Lightweight dress by ASOS CURVE;Embroidery and...   \n1    7601668  Women  Lightly-textured stretch fabric;Leopard print;...   \n2    7550376  Women  Cotton-rich fabric;Contains stretch for comfor...   \n3    4519370  Women  Lightweight, woven fabric;Boat neckline;Box pl...   \n4    6436058  Women  Woven fabric;Bandeau neckline;Off-shoulder des...   \n\n                                           imageURL1  \\\n0  images.asos-media.com/products/asos-curve-embe...   \n1  images.asos-media.com/products/asos-mini-dress...   \n2  images.asos-media.com/products/h-by-henry-holl...   \n3  images.asos-media.com/products/asos-reclaimed-...   \n4  images.asos-media.com/products/asos-off-the-sh...   \n\n                                           imageURL2  \\\n0  images.asos-media.com/products/asos-curve-embe...   \n1  images.asos-media.com/products/asos-mini-dress...   \n2  images.asos-media.com/products/h-by-henry-holl...   \n3  images.asos-media.com/products/asos-reclaimed-...   \n4  images.asos-media.com/products/asos-off-the-sh...   \n\n                                           imageURL3  \\\n0  images.asos-media.com/products/asos-curve-embe...   \n1  images.asos-media.com/products/asos-mini-dress...   \n2  images.asos-media.com/products/h-by-henry-holl...   \n3  images.asos-media.com/products/asos-reclaimed-...   \n4  images.asos-media.com/products/asos-off-the-sh...   \n\n                                           imageURL4  \\\n0  images.asos-media.com/products/asos-curve-embe...   \n1  images.asos-media.com/products/asos-mini-dress...   \n2  images.asos-media.com/products/h-by-henry-holl...   \n3  images.asos-media.com/products/asos-reclaimed-...   \n4  images.asos-media.com/products/asos-off-the-sh...   \n\n                                                name productType      pattern  \\\n0                  ASOS CURVE Embellished Neck Dress     Dresses  Embellished   \n1  ASOS Mini Dress in Leopard Print With Frill Wa...     Dresses       Animal   \n2       H! By Henry Holland Zebra Print Ruffle Dress     Dresses       Animal   \n3    ASOS Reclaimed Vintage Smudge Floral Midi Dress     Dresses       Floral   \n4  ASOS Off The Shoulder Midi Prom  Dress In Brig...     Dresses       Floral   \n\n                  productIdentifier  \n0  23b469431f1ef587a931d7811a6aa914  \n1  133353816a459ef91d87fdee335f3c36  \n2  676004bfc416bcb360702352b0f34c70  \n3  f9db7e1b620236c58ef0d8cb92f14abb  \n4  cbde47b8c6b84803516b3285bfcbd4f3  ",
      "text/html": "<div>\n<style scoped>\n    .dataframe tbody tr th:only-of-type {\n        vertical-align: middle;\n    }\n\n    .dataframe tbody tr th {\n        vertical-align: top;\n    }\n\n    .dataframe thead th {\n        text-align: right;\n    }\n</style>\n<table border=\"1\" class=\"dataframe\">\n  <thead>\n    <tr style=\"text-align: right;\">\n      <th></th>\n      <th>productId</th>\n      <th>gender</th>\n      <th>description</th>\n      <th>imageURL1</th>\n      <th>imageURL2</th>\n      <th>imageURL3</th>\n      <th>imageURL4</th>\n      <th>name</th>\n      <th>productType</th>\n      <th>pattern</th>\n      <th>productIdentifier</th>\n    </tr>\n  </thead>\n  <tbody>\n    <tr>\n      <th>0</th>\n      <td>1026288</td>\n      <td>Women</td>\n      <td>Lightweight dress by ASOS CURVE;Embroidery and...</td>\n      <td>images.asos-media.com/products/asos-curve-embe...</td>\n      <td>images.asos-media.com/products/asos-curve-embe...</td>\n      <td>images.asos-media.com/products/asos-curve-embe...</td>\n      <td>images.asos-media.com/products/asos-curve-embe...</td>\n      <td>ASOS CURVE Embellished Neck Dress</td>\n      <td>Dresses</td>\n      <td>Embellished</td>\n      <td>23b469431f1ef587a931d7811a6aa914</td>\n    </tr>\n    <tr>\n      <th>1</th>\n      <td>7601668</td>\n      <td>Women</td>\n      <td>Lightly-textured stretch fabric;Leopard print;...</td>\n      <td>images.asos-media.com/products/asos-mini-dress...</td>\n      <td>images.asos-media.com/products/asos-mini-dress...</td>\n      <td>images.asos-media.com/products/asos-mini-dress...</td>\n      <td>images.asos-media.com/products/asos-mini-dress...</td>\n      <td>ASOS Mini Dress in Leopard Print With Frill Wa...</td>\n      <td>Dresses</td>\n      <td>Animal</td>\n      <td>133353816a459ef91d87fdee335f3c36</td>\n    </tr>\n    <tr>\n      <th>2</th>\n      <td>7550376</td>\n      <td>Women</td>\n      <td>Cotton-rich fabric;Contains stretch for comfor...</td>\n      <td>images.asos-media.com/products/h-by-henry-holl...</td>\n      <td>images.asos-media.com/products/h-by-henry-holl...</td>\n      <td>images.asos-media.com/products/h-by-henry-holl...</td>\n      <td>images.asos-media.com/products/h-by-henry-holl...</td>\n      <td>H! By Henry Holland Zebra Print Ruffle Dress</td>\n      <td>Dresses</td>\n      <td>Animal</td>\n      <td>676004bfc416bcb360702352b0f34c70</td>\n    </tr>\n    <tr>\n      <th>3</th>\n      <td>4519370</td>\n      <td>Women</td>\n      <td>Lightweight, woven fabric;Boat neckline;Box pl...</td>\n      <td>images.asos-media.com/products/asos-reclaimed-...</td>\n      <td>images.asos-media.com/products/asos-reclaimed-...</td>\n      <td>images.asos-media.com/products/asos-reclaimed-...</td>\n      <td>images.asos-media.com/products/asos-reclaimed-...</td>\n      <td>ASOS Reclaimed Vintage Smudge Floral Midi Dress</td>\n      <td>Dresses</td>\n      <td>Floral</td>\n      <td>f9db7e1b620236c58ef0d8cb92f14abb</td>\n    </tr>\n    <tr>\n      <th>4</th>\n      <td>6436058</td>\n      <td>Women</td>\n      <td>Woven fabric;Bandeau neckline;Off-shoulder des...</td>\n      <td>images.asos-media.com/products/asos-off-the-sh...</td>\n      <td>images.asos-media.com/products/asos-off-the-sh...</td>\n      <td>images.asos-media.com/products/asos-off-the-sh...</td>\n      <td>images.asos-media.com/products/asos-off-the-sh...</td>\n      <td>ASOS Off The Shoulder Midi Prom  Dress In Brig...</td>\n      <td>Dresses</td>\n      <td>Floral</td>\n      <td>cbde47b8c6b84803516b3285bfcbd4f3</td>\n    </tr>\n  </tbody>\n</table>\n</div>"
     },
     "execution_count": 2,
     "metadata": {},
     "output_type": "execute_result"
    }
   ],
   "source": [
    "train.head()"
   ],
   "metadata": {
    "collapsed": false,
    "ExecuteTime": {
     "end_time": "2024-03-06T15:30:11.867814300Z",
     "start_time": "2024-03-06T15:30:11.812709800Z"
    }
   },
   "id": "1bada1eb624a6d37",
   "execution_count": 2
  },
  {
   "cell_type": "code",
   "outputs": [
    {
     "name": "stdout",
     "output_type": "stream",
     "text": [
      "<class 'pandas.core.frame.DataFrame'>\n",
      "RangeIndex: 3049 entries, 0 to 3048\n",
      "Data columns (total 11 columns):\n",
      " #   Column             Non-Null Count  Dtype \n",
      "---  ------             --------------  ----- \n",
      " 0   productId          3049 non-null   int64 \n",
      " 1   gender             3049 non-null   object\n",
      " 2   description        3049 non-null   object\n",
      " 3   imageURL1          3049 non-null   object\n",
      " 4   imageURL2          3049 non-null   object\n",
      " 5   imageURL3          3049 non-null   object\n",
      " 6   imageURL4          3049 non-null   object\n",
      " 7   name               3049 non-null   object\n",
      " 8   productType        3049 non-null   object\n",
      " 9   pattern            3049 non-null   object\n",
      " 10  productIdentifier  3049 non-null   object\n",
      "dtypes: int64(1), object(10)\n",
      "memory usage: 262.1+ KB\n"
     ]
    }
   ],
   "source": [
    "train.info()"
   ],
   "metadata": {
    "collapsed": false,
    "ExecuteTime": {
     "end_time": "2024-03-06T16:31:50.007397500Z",
     "start_time": "2024-03-06T16:31:49.956944700Z"
    }
   },
   "id": "884dbf3774892427",
   "execution_count": 16
  },
  {
   "cell_type": "code",
   "outputs": [
    {
     "name": "stdout",
     "output_type": "stream",
     "text": [
      "{(314, 400)}\n"
     ]
    }
   ],
   "source": [
    "import requests\n",
    "from io import BytesIO\n",
    "\n",
    "sizes = set()\n",
    "\n",
    "for image_url in train['imageURL1'].values:\n",
    "    response = requests.get(f'https://{image_url}')\n",
    "    if response.status_code == 200:\n",
    "        image = Image.open(BytesIO(response.content))\n",
    "        sizes.add(image.size)\n",
    "        # display(image)\n",
    "        # image.show()\n",
    "    else:\n",
    "        print(\"Failed to fetch the image. Status code:\", response.status_code)\n",
    "print(sizes)"
   ],
   "metadata": {
    "collapsed": false,
    "ExecuteTime": {
     "end_time": "2024-03-06T15:57:44.775640700Z",
     "start_time": "2024-03-06T15:46:12.817765100Z"
    }
   },
   "id": "2181169df57c8a92",
   "execution_count": 15
  },
  {
   "cell_type": "code",
   "outputs": [
    {
     "name": "stderr",
     "output_type": "stream",
     "text": [
      "/home/achilleasatha/.pyenv/versions/3.10.13/envs/asos/lib/python3.10/site-packages/torchvision/models/_utils.py:208: UserWarning: The parameter 'pretrained' is deprecated since 0.13 and may be removed in the future, please use 'weights' instead.\n",
      "  warnings.warn(\n",
      "/home/achilleasatha/.pyenv/versions/3.10.13/envs/asos/lib/python3.10/site-packages/torchvision/models/_utils.py:223: UserWarning: Arguments other than a weight enum or `None` for 'weights' are deprecated since 0.13 and may be removed in the future. The current behavior is equivalent to passing `weights=ResNet50_Weights.IMAGENET1K_V1`. You can also use `weights=ResNet50_Weights.DEFAULT` to get the most up-to-date weights.\n",
      "  warnings.warn(msg)\n",
      "Downloading: \"https://download.pytorch.org/models/resnet50-0676ba61.pth\" to /home/achilleasatha/.cache/torch/hub/checkpoints/resnet50-0676ba61.pth\n",
      "24.0%IOPub message rate exceeded.\n",
      "The Jupyter server will temporarily stop sending output\n",
      "to the client in order to avoid crashing it.\n",
      "To change this limit, set the config variable\n",
      "`--ServerApp.iopub_msg_rate_limit`.\n",
      "\n",
      "Current values:\n",
      "ServerApp.iopub_msg_rate_limit=1000.0 (msgs/sec)\n",
      "ServerApp.rate_limit_window=3.0 (secs)\n",
      "\n",
      "56.0%IOPub message rate exceeded.\n",
      "The Jupyter server will temporarily stop sending output\n",
      "to the client in order to avoid crashing it.\n",
      "To change this limit, set the config variable\n",
      "`--ServerApp.iopub_msg_rate_limit`.\n",
      "\n",
      "Current values:\n",
      "ServerApp.iopub_msg_rate_limit=1000.0 (msgs/sec)\n",
      "ServerApp.rate_limit_window=3.0 (secs)\n",
      "\n",
      "88.1%IOPub message rate exceeded.\n",
      "The Jupyter server will temporarily stop sending output\n",
      "to the client in order to avoid crashing it.\n",
      "To change this limit, set the config variable\n",
      "`--ServerApp.iopub_msg_rate_limit`.\n",
      "\n",
      "Current values:\n",
      "ServerApp.iopub_msg_rate_limit=1000.0 (msgs/sec)\n",
      "ServerApp.rate_limit_window=3.0 (secs)\n",
      "\n",
      "100.0%\n"
     ]
    },
    {
     "name": "stdout",
     "output_type": "stream",
     "text": [
      "Image embedding shape: (2048,)\n"
     ]
    }
   ],
   "source": [
    "import torch\n",
    "import torch.nn as nn\n",
    "import torchvision.transforms as transforms\n",
    "import torchvision.models as models\n",
    "from PIL import Image\n",
    "\n",
    "# Load pre-trained ResNet-50 model\n",
    "resnet50 = models.resnet50(pretrained=True)\n",
    "# Remove the fully connected layer at the top\n",
    "resnet50 = nn.Sequential(*list(resnet50.children())[:-1])\n",
    "# Set the model to evaluation mode\n",
    "resnet50.eval()\n",
    "\n",
    "# Define preprocessing transforms\n",
    "preprocess = transforms.Compose([\n",
    "    transforms.Resize(256),\n",
    "    transforms.CenterCrop(224),\n",
    "    transforms.ToTensor(),\n",
    "    transforms.Normalize(mean=[0.485, 0.456, 0.406], std=[0.229, 0.224, 0.225]),\n",
    "])\n",
    "\n",
    "def extract_image_embedding(image_url):\n",
    "    # Open and preprocess the image\n",
    "    \n",
    "    response = requests.get(image_url)\n",
    "    if response.status_code == 200:\n",
    "        image = Image.open(BytesIO(response.content))\n",
    "    # image = Image.open(image_path)\n",
    "    image = preprocess(image).unsqueeze(0)  # Add batch dimension\n",
    "\n",
    "    # Forward pass through the model to extract features\n",
    "    with torch.no_grad():\n",
    "        features = resnet50(image)\n",
    "\n",
    "    # Flatten the features and convert to numpy array\n",
    "    embedding = features.squeeze().numpy()\n",
    "\n",
    "    return embedding\n",
    "\n",
    "# Example usage:\n",
    "image_url = f'https://{train.imageURL1.values[0]}'\n",
    "embedding = extract_image_embedding(image_url)\n",
    "print(\"Image embedding shape:\", embedding.shape)"
   ],
   "metadata": {
    "collapsed": false,
    "ExecuteTime": {
     "end_time": "2024-03-06T15:42:33.227213700Z",
     "start_time": "2024-03-06T15:42:17.191850400Z"
    }
   },
   "id": "c4fba645ed1624b",
   "execution_count": 13
  }
 ],
 "metadata": {
  "kernelspec": {
   "display_name": "Python 3",
   "language": "python",
   "name": "python3"
  },
  "language_info": {
   "codemirror_mode": {
    "name": "ipython",
    "version": 2
   },
   "file_extension": ".py",
   "mimetype": "text/x-python",
   "name": "python",
   "nbconvert_exporter": "python",
   "pygments_lexer": "ipython2",
   "version": "2.7.6"
  }
 },
 "nbformat": 4,
 "nbformat_minor": 5
}
